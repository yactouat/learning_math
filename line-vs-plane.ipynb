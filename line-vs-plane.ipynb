{
 "cells": [
  {
   "cell_type": "markdown",
   "metadata": {},
   "source": [
    "# Line VS plane\n",
    "\n",
    "Before we get to lines and planes, we need to understand a point. A point represents a location. It doesn't have size, width, or depth. You can think of it as a dot on a piece of paper.\n",
    "\n",
    "## Line\n",
    "\n",
    "Now, imagine you have two points on a piece of paper. A line can be drawn to connect these two points. Here are some key things to know about a line:\n",
    "\n",
    "- a line is straight\n",
    "- a line has no thickness\n",
    "- a line extends infinitely in both directions\n",
    "\n",
    "If you take a piece of that infinite line, it's called a _segment_.\n",
    "\n",
    "In pure mathematics, a line is an abstract concept that doesn't have physical properties like width or thickness. When mathematicians talk about a line, they're referring to a straight series of points that extends infinitely in both directions. This abstract line isn't something you can touch or see in the real world.\n",
    "\n",
    "In mathematics, a line is just an endless series of points. It doesn't have width, height, or depth. It's purely a concept, not a physical object.\n",
    "\n",
    "## Plane\n",
    "\n",
    "A plane is:\n",
    "\n",
    "- a flat surface\n",
    "- that extends infinitely in all directions\n",
    "- and that has no thickness\n",
    "\n",
    "Just like you needed two points to define a line, you typically need a minimum of three non-collinear points (points not on the same line) to define a plane.\n",
    "\n",
    "All the points that define a plane need to be coplanar. That means they all need to lie on the same plane. This is something to be aware of if your plane is defined by more than three points."
   ]
  }
 ],
 "metadata": {
  "language_info": {
   "name": "python"
  },
  "orig_nbformat": 4
 },
 "nbformat": 4,
 "nbformat_minor": 2
}
